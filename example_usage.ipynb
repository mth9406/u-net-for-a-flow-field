{
 "cells": [
  {
   "cell_type": "code",
   "execution_count": 1,
   "metadata": {},
   "outputs": [
    {
     "name": "stdout",
     "output_type": "stream",
     "text": [
      "usage: main.py [-h] [--dataset_path DATASET_PATH] [--test_size TEST_SIZE]\n",
      "               [--val_size VAL_SIZE] [--batch_size BATCH_SIZE] [--epoch EPOCH]\n",
      "               [--lr LR] [--patience PATIENCE] [--delta DELTA]\n",
      "               [--model_path MODEL_PATH] [--print_log_option PRINT_LOG_OPTION]\n",
      "               [--latent_dim LATENT_DIM] [--lags LAGS]\n",
      "\n",
      "optional arguments:\n",
      "  -h, --help            show this help message and exit\n",
      "  --dataset_path DATASET_PATH\n",
      "  --test_size TEST_SIZE\n",
      "                        test size when splitting the data (float type)\n",
      "  --val_size VAL_SIZE   validation size when splitting the data (float type)\n",
      "  --batch_size BATCH_SIZE\n",
      "                        input batch size\n",
      "  --epoch EPOCH         the number of epochs to train for\n",
      "  --lr LR               learning rate\n",
      "  --patience PATIENCE   patience of early stopping condition\n",
      "  --delta DELTA         significant improvement to update a model\n",
      "  --model_path MODEL_PATH\n",
      "                        a path to sava a model\n",
      "  --print_log_option PRINT_LOG_OPTION\n",
      "                        print training loss every print_log_option\n",
      "  --latent_dim LATENT_DIM\n",
      "                        latent dimension\n",
      "  --lags LAGS\n"
     ]
    }
   ],
   "source": [
    "!python main.py -h"
   ]
  },
  {
   "cell_type": "markdown",
   "metadata": {},
   "source": [
    "# How to train a model"
   ]
  },
  {
   "cell_type": "code",
   "execution_count": 11,
   "metadata": {},
   "outputs": [
    {
     "name": "stdout",
     "output_type": "stream",
     "text": [
      "Namespace(batch_size=32, dataset_path=\"'../cylinder/Data/Re300'\", delta=0.0, epoch=1, lags=2, latent_dim=2, lr=0.001, model_path=\"'./model0'\", patience=30, print_log_option=10, test_size=0.3, val_size=0.1)\n"
     ]
    },
    {
     "name": "stderr",
     "output_type": "stream",
     "text": [
      "Traceback (most recent call last):\n",
      "  File \"main.py\", line 174, in <module>\n",
      "    main()\n"
     ]
    },
    {
     "name": "stdout",
     "output_type": "stream",
     "text": [
      "The path already exists, skip making the path...\n",
      "Loading data...\n"
     ]
    },
    {
     "name": "stderr",
     "output_type": "stream",
     "text": [
      "  File \"main.py\", line 56, in main\n",
      "    X_train, X_valid, X_test, Y_train, Y_valid, Y_test = load_fluid_data(fluid_path= args.dataset_path, \n",
      "  File \"d:\\dmd\\deepLearning\\utils.py\", line 9, in load_fluid_data\n",
      "    files = list(map(lambda x:os.path.join(fluid_path,x), os.listdir(fluid_path)))\n",
      "FileNotFoundError: [WinError 3] 지정된 경로를 찾을 수 없습니다: \"'../cylinder/Data/Re300'\"\n"
     ]
    }
   ],
   "source": [
    "!python main.py --dataset_path \"./Re300\" --test_size 0.3 --val_size 0.1 \\\n",
    "    --batch_size 4 --epoch 10 --lr 0.01 --patience 2 --delta 0 \\\n",
    "    --model_type 1 --model_path \"./model1\" --latent_dim 4 --lags 2"
   ]
  },
  {
   "cell_type": "markdown",
   "metadata": {},
   "source": [
    "# How to test your model"
   ]
  },
  {
   "cell_type": "code",
   "execution_count": null,
   "metadata": {},
   "outputs": [],
   "source": [
    "!python main.py --dataset_path \"./Re300\" --test_size 0.3 --val_size 0.1 \\\n",
    "    --batch_size 4 --test --model_path './model1' --model_file 'latest_checkpoint.pth.tar' --model_type 1  --latent_dim 4 --lags 2 "
   ]
  }
 ],
 "metadata": {
  "interpreter": {
   "hash": "f08154012ddadd8e950e6e9e035c7a7b32c136e7647e9b7c77e02eb723a8bedb"
  },
  "kernelspec": {
   "display_name": "Python 3.8.5 ('base')",
   "language": "python",
   "name": "python3"
  },
  "language_info": {
   "codemirror_mode": {
    "name": "ipython",
    "version": 3
   },
   "file_extension": ".py",
   "mimetype": "text/x-python",
   "name": "python",
   "nbconvert_exporter": "python",
   "pygments_lexer": "ipython3",
   "version": "3.8.5"
  },
  "orig_nbformat": 4
 },
 "nbformat": 4,
 "nbformat_minor": 2
}
